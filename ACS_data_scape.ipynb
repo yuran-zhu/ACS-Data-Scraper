{
 "cells": [
  {
   "cell_type": "markdown",
   "metadata": {},
   "source": [
    "# Scrape ACS Data Using Census API"
   ]
  },
  {
   "cell_type": "markdown",
   "metadata": {},
   "source": [
    "**Name: Yuran Zhu <br>\n",
    "andrewID: yuranz**"
   ]
  },
  {
   "cell_type": "markdown",
   "metadata": {},
   "source": [
    "This program can be used to scrape most recent ACS 5-Year Data at the block group level. It intends to scrape different tables and export as separate .csv files. It also combines tables scraped and transforms for better use."
   ]
  },
  {
   "cell_type": "code",
   "execution_count": 1,
   "metadata": {},
   "outputs": [],
   "source": [
    "import requests\n",
    "import pandas as pd"
   ]
  },
  {
   "cell_type": "markdown",
   "metadata": {},
   "source": [
    "## 1. Select Variables"
   ]
  },
  {
   "cell_type": "markdown",
   "metadata": {},
   "source": [
    "From all available variables in ACS data, I select the following variables to scrape.<br>\n",
    "Variables are divided into two types: grouped variables and selected variables.Grouped variables refer to the whole group, like `B01003`, selected variables refer to a string of detailed columns like `B01001_001E,B01001_002E,B01001_026E`. Record them in separate dictionaries."
   ]
  },
  {
   "cell_type": "code",
   "execution_count": 2,
   "metadata": {},
   "outputs": [],
   "source": [
    "# variables selection\n",
    "group_var_dict = {'B01003':'population',\n",
    "                  'B02001':'race',\n",
    "                  'B19301':'per_capita_income',\n",
    "                  'B15003':'education'} \n",
    "select_var_dict = {'B01001_001E,B01001_002E,B01001_026E':'sex',\n",
    "                   'B01002_001E,B01002_002E,B01002_003E':'median_age_by_sex'}"
   ]
  },
  {
   "cell_type": "markdown",
   "metadata": {},
   "source": [
    "## 2. Scrape Data"
   ]
  },
  {
   "cell_type": "markdown",
   "metadata": {},
   "source": [
    "First, set up the `base_url` and `state`. Here, I use `New Jersey` as the selected state. Modify the `state` variable for changing to other states."
   ]
  },
  {
   "cell_type": "code",
   "execution_count": 3,
   "metadata": {},
   "outputs": [],
   "source": [
    "base_url = f'https://api.census.gov/data/2018/acs/acs5'\n",
    "state = '34'  # modify this value for scraping other states' data\n",
    "key = '7359b120f70b276a234039d6cc675abf14c0df6f'"
   ]
  },
  {
   "cell_type": "markdown",
   "metadata": {},
   "source": [
    "Since the census API only support acquiring data of all block-groups for one county at one time, we need to acquire the county list of the specified state. Define the function `get_counties` to do so."
   ]
  },
  {
   "cell_type": "code",
   "execution_count": 4,
   "metadata": {},
   "outputs": [],
   "source": [
    "def get_counties(state):\n",
    "    '''\n",
    "    Returns the county number list for a specified state.\n",
    "    '''\n",
    "    county_url = f'{base_url}?get=NAME&for=county:*&in=state:{state}&key={key}'\n",
    "    county_data = requests.get(county_url).json()\n",
    "    df = pd.DataFrame(county_data[1:], columns = county_data[0])\n",
    "    county = list(df['county'])\n",
    "    return county"
   ]
  },
  {
   "cell_type": "markdown",
   "metadata": {},
   "source": [
    "**i. For Grouped Data**"
   ]
  },
  {
   "cell_type": "code",
   "execution_count": 5,
   "metadata": {},
   "outputs": [],
   "source": [
    "def get_group_data(state, var):\n",
    "    '''\n",
    "    Gets data related to one group variable, for all block-groups in a specified state.\n",
    "    '''\n",
    "    county = get_counties(state)\n",
    "    df_lst = []\n",
    "    for c in county:\n",
    "        data_url = f'{base_url}?get=group({var})&for=block%20group:*&in=state:{state}%20county:{c}&key={key}'  \n",
    "        data = requests.get(data_url).json()\n",
    "        df = pd.DataFrame(data[1:], columns = data[0])\n",
    "        drop_cols = [column for column in df if column.endswith('A') or column.endswith('M') ]\n",
    "        df_cleaned = df.drop(drop_cols, axis = 1)\n",
    "        df_lst.append(df_cleaned)\n",
    "    df_all = pd.concat(df_lst, ignore_index = True)   \n",
    "    return df_all"
   ]
  },
  {
   "cell_type": "markdown",
   "metadata": {},
   "source": [
    "**ii. For Selected Data**"
   ]
  },
  {
   "cell_type": "code",
   "execution_count": 6,
   "metadata": {},
   "outputs": [],
   "source": [
    "def get_select_data(state, var):\n",
    "    '''\n",
    "    Gets data related to one slected variables string, for all block-groups in a specified state.\n",
    "    '''\n",
    "    county = get_counties(state)\n",
    "    df_lst = []\n",
    "    for c in county:\n",
    "        data_url = f'{base_url}?get={var},NAME&for=block%20group:*&in=state:{state}%20county:{c}&key={key}'  \n",
    "        data = requests.get(data_url).json()\n",
    "        df = pd.DataFrame(data[1:], columns = data[0])\n",
    "        drop_cols = [column for column in df if column.endswith('A') or column.endswith('M') ]\n",
    "        df_cleaned = df.drop(drop_cols, axis = 1)\n",
    "        df_lst.append(df_cleaned)\n",
    "    df_all = pd.concat(df_lst, ignore_index = True)   \n",
    "    return df_all"
   ]
  },
  {
   "cell_type": "markdown",
   "metadata": {},
   "source": [
    "Define functions to translate column names, making it meaningful."
   ]
  },
  {
   "cell_type": "code",
   "execution_count": 7,
   "metadata": {},
   "outputs": [],
   "source": [
    "def update_cols(df, var):\n",
    "    '''\n",
    "    Decodes column names with actual meaning.\n",
    "    '''\n",
    "    var_url = f'https://api.census.gov/data/2018/acs/acs5/groups/{var}/'\n",
    "    var_lst = requests.get(var_url).json()  # scrape info for var ID and labels\n",
    "    select_cols = [x for x in var_lst['variables'].keys() if x.endswith('E')]\n",
    "    labels = {select_cols[x]:var_lst['variables'][select_cols[x]]['label'].split('!!')[-1]  # extract most minor group\n",
    "          for x in range(len(select_cols))}\n",
    "    df.rename(columns=labels, inplace = True)\n",
    "    df.columns = df.columns.str.replace(' ', '_')\n",
    "    df.columns = df.columns.str.replace(\"'s\", '')\n",
    "    df.columns = df.columns.str.replace(',', '')\n",
    "    return df"
   ]
  },
  {
   "cell_type": "code",
   "execution_count": 8,
   "metadata": {},
   "outputs": [],
   "source": [
    "def update_select_cols(df, var):\n",
    "    '''\n",
    "    Decodes column names with actual meaning.\n",
    "    '''\n",
    "    select_cols = var.split(',')\n",
    "    group_var = select_cols[0].split('_')[0]  # The group the variables are assigned to\n",
    "    var_url = f'https://api.census.gov/data/2018/acs/acs5/groups/{group_var}/'\n",
    "    var_lst = requests.get(var_url).json()\n",
    "    labels = {select_cols[x]:var_lst['variables'][select_cols[x]]['label'].split('!!')[-1]\n",
    "          for x in range(len(select_cols))}\n",
    "    df.rename(columns=labels, inplace = True)\n",
    "    df.columns = df.columns.str.replace(' ', '_')\n",
    "    df.columns = df.columns.str.replace(\"'s\", '')\n",
    "    df.columns = df.columns.str.replace(',', '')\n",
    "    return df"
   ]
  },
  {
   "cell_type": "code",
   "execution_count": 9,
   "metadata": {},
   "outputs": [],
   "source": [
    "def transform_group_data(state, var):\n",
    "    '''\n",
    "    Downloads data and tranforms it.\n",
    "    '''\n",
    "    df = get_group_data(state, var)\n",
    "    df_trans = update_cols(df, var)\n",
    "    return df_trans"
   ]
  },
  {
   "cell_type": "code",
   "execution_count": 10,
   "metadata": {},
   "outputs": [],
   "source": [
    "def transform_select_data(state, var):\n",
    "    '''\n",
    "    Downloads data and tranforms it.\n",
    "    '''\n",
    "    df = get_select_data(state, var)\n",
    "    df_trans = update_select_cols(df, var)\n",
    "    return df_trans"
   ]
  },
  {
   "cell_type": "markdown",
   "metadata": {},
   "source": [
    "## 3. Export Data"
   ]
  },
  {
   "cell_type": "markdown",
   "metadata": {},
   "source": [
    "For further use, we may want to export each data set separately. Define functions `save_group_data(state, var)` and `save_select_data(state, var)` to achieve it. Later, join datasets together adn export a whole dataset."
   ]
  },
  {
   "cell_type": "code",
   "execution_count": 11,
   "metadata": {},
   "outputs": [],
   "source": [
    "def save_group_data(state, var):\n",
    "    '''\n",
    "    Exports grouped downloaded and tranformed data to local directory, saving as .csv.\n",
    "    '''\n",
    "    df = transform_group_data(state, var)\n",
    "    fname = group_var_dict[var]  # match fname with data info in dictionary\n",
    "    df.to_csv('./%s.csv' % (fname), index = False)\n",
    "    print('./%s.csv has been exported.' % (fname))  # print message after successfully exporting\n",
    "    return\n",
    "\n",
    "def save_select_data(state, var):\n",
    "    '''\n",
    "    Exports selected downloaded and tranformed data to local directory, saving as .csv.\n",
    "    '''\n",
    "    df = transform_select_data(state, var)\n",
    "    fname = select_var_dict[var]\n",
    "    df.to_csv('./%s.csv' % (fname), index = False)\n",
    "    print('./%s.csv has been exported.' % (fname))\n",
    "    return"
   ]
  },
  {
   "cell_type": "code",
   "execution_count": 12,
   "metadata": {},
   "outputs": [
    {
     "name": "stdout",
     "output_type": "stream",
     "text": [
      "./population.csv has been exported.\n",
      "./race.csv has been exported.\n",
      "./per_capita_income.csv has been exported.\n",
      "./education.csv has been exported.\n",
      "./sex.csv has been exported.\n",
      "./median_age_by_sex.csv has been exported.\n",
      "Finished!\n"
     ]
    }
   ],
   "source": [
    "# Apply to all variables we selected in the dictionary\n",
    "for var in group_var_dict.keys():\n",
    "    save_group_data(state, var)\n",
    "for var in select_var_dict.keys():\n",
    "    save_select_data(state, var)\n",
    "print(\"Finished!\")"
   ]
  },
  {
   "cell_type": "markdown",
   "metadata": {},
   "source": [
    "## 4. Transform Datasets"
   ]
  },
  {
   "cell_type": "code",
   "execution_count": 23,
   "metadata": {},
   "outputs": [],
   "source": [
    "# Import datasets\n",
    "df_ppl = pd.read_csv(\"population.csv\")\n",
    "df_race = pd.read_csv(\"race.csv\")\n",
    "df_inc = pd.read_csv(\"per_capita_income.csv\")\n",
    "df_edu = pd.read_csv(\"education.csv\")\n",
    "df_sex = pd.read_csv(\"sex.csv\")\n",
    "df_medage = pd.read_csv(\"median_age_by_sex.csv\")"
   ]
  },
  {
   "cell_type": "markdown",
   "metadata": {},
   "source": [
    "For `race` data, select those columns containing information of specific race, such as 'Write only'. For `education` data, select those columns refer to an Associate degree or higher."
   ]
  },
  {
   "cell_type": "code",
   "execution_count": 24,
   "metadata": {},
   "outputs": [],
   "source": [
    "# change column names and drop specific columns \n",
    "df_ppl.rename(columns={'Total':'Population'}, inplace = True)\n",
    "df_race.drop(df_race.columns[8:11], axis=1, inplace=True)\n",
    "df_race = df_race.drop(columns = ['Total'])\n",
    "df_inc.rename(columns={df_inc.columns[1]:'Per_capita_income'}, inplace = True)\n",
    "df_edu.drop(df_edu.columns[2:21], axis=1, inplace=True)\n",
    "df_edu = df_edu.drop(columns = ['Total'])\n",
    "df_sex = df_sex.drop(columns = ['Total'])\n",
    "df_medage.rename(columns={'Total':'Median_age', 'Male':'Male median_age' ,'Female':'Female_median_age'},\n",
    "                 inplace = True)"
   ]
  },
  {
   "cell_type": "code",
   "execution_count": 25,
   "metadata": {},
   "outputs": [],
   "source": [
    "# merge tables and export\n",
    "df_list = [df_race, df_inc, df_edu, df_sex, df_medage]\n",
    "acs_df = df_ppl\n",
    "for df in df_list:\n",
    "    acs_df = pd.merge(acs_df, df)\n",
    "acs_df = acs_df.drop(columns = ['NAME'])\n",
    "acs_df.to_csv('./acs_data.csv', index = False)"
   ]
  },
  {
   "cell_type": "code",
   "execution_count": null,
   "metadata": {},
   "outputs": [],
   "source": []
  }
 ],
 "metadata": {
  "kernelspec": {
   "display_name": "Python 3",
   "language": "python",
   "name": "python3"
  },
  "language_info": {
   "codemirror_mode": {
    "name": "ipython",
    "version": 3
   },
   "file_extension": ".py",
   "mimetype": "text/x-python",
   "name": "python",
   "nbconvert_exporter": "python",
   "pygments_lexer": "ipython3",
   "version": "3.8.2"
  }
 },
 "nbformat": 4,
 "nbformat_minor": 4
}
